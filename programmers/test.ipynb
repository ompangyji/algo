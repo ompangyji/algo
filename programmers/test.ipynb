{
 "cells": [
  {
   "cell_type": "code",
   "execution_count": 1,
   "metadata": {},
   "outputs": [],
   "source": [
    "list1 = [[1, 4], [9, 2], [3, 8], [11, 6]]\n",
    "list2 = [[3, 5], [4, 1], [2, 4], [5, 10]]\n",
    "list3 = [[1, 2], [5, 1], [3, 6], [6, 3]]\n",
    "list4 = [[0, 0], [6, 6], [2, 3], [3, 2]]"
   ]
  },
  {
   "cell_type": "code",
   "execution_count": 2,
   "metadata": {},
   "outputs": [
    {
     "name": "stdout",
     "output_type": "stream",
     "text": [
      "[-2.33333333 11.33333333]\n",
      "[-1. 14.]\n"
     ]
    }
   ],
   "source": [
    "import numpy as np\n",
    "\n",
    "print(np.polyfit(list1[0], list1[1], 1))\n",
    "print(np.polyfit(list1[2], list1[3], 1))"
   ]
  },
  {
   "cell_type": "code",
   "execution_count": 3,
   "metadata": {},
   "outputs": [
    {
     "data": {
      "text/plain": [
       "[1, 6, 3, 2, 57, 5]"
      ]
     },
     "execution_count": 3,
     "metadata": {},
     "output_type": "execute_result"
    }
   ],
   "source": [
    "su = [0,5,2,1,56,5]\n",
    " \n",
    "su[0:5] = list(map(lambda su: su+1,su[0:5])) \n",
    "\n",
    "su"
   ]
  },
  {
   "cell_type": "code",
   "execution_count": 29,
   "metadata": {},
   "outputs": [
    {
     "name": "stdout",
     "output_type": "stream",
     "text": [
      "[[1, 1, 0, 0], [0, 0, 0, 0], [0, 0, 0, 0], [0, 0, 0, 1]]\n",
      "\n",
      "[[1, 1, 0, 0], [1, 0, 0, 0], [0, 0, 0, 0], [0, 0, 0, 1]]\n",
      "\n",
      "[[1, 1, 0, 0], [1, 1, 0, 0], [0, 0, 0, 0], [0, 0, 0, 1]]\n",
      "\n",
      "[[1, 1, 0, 0], [1, 1, 0, 0], [0, 0, 1, 0], [0, 0, 0, 1]]\n",
      "\n",
      "[[1, 1, 0, 0], [1, 1, 0, 0], [0, 0, 1, 1], [0, 0, 0, 1]]\n",
      "\n",
      "[[1, 1, 0, 0], [1, 1, 0, 0], [0, 0, 1, 1], [0, 0, 1, 1]]\n",
      "\n",
      "8\n"
     ]
    }
   ],
   "source": [
    "from pprint import pprint\n",
    "\n",
    "\n",
    "\n",
    "def solution(board):\n",
    "    n = len(board)\n",
    "    danger = set()\n",
    "    for i, row in enumerate(board):\n",
    "        for j, x in enumerate(row):\n",
    "            if not x:\n",
    "                continue\n",
    "            danger.update((i+di, j+dj) for di in [-1,0,1] for dj in [-1, 0, 1])\n",
    "    return n*n - sum(0 <= i < n and 0 <= j < n for i, j in danger)\n",
    "\n",
    "# def solution(board):\n",
    "\n",
    "#     idx = [(ix,iy) for ix, row in enumerate(board) for iy, i in enumerate(row) if i == 1]\n",
    "\n",
    "#     for x, y in idx:\n",
    "#         for i in range(x-1, x+2):\n",
    "#             for j in range(y-1, y+2):\n",
    "#                     if i > -1 and j> -1 and len(board) > i and len(board) > j and board[i][j] != 1:\n",
    "#                             board[i][j] = 1\n",
    "#                             print(board)\n",
    "#                             print()        \n",
    "\n",
    "    \n",
    "#     answer = 0\n",
    "#     for i in range(len(board)):\n",
    "#         for j in range(len(board)):\n",
    "#             if board[i][j] == 0:\n",
    "#                 answer += 1\n",
    "\n",
    "#     return answer\n",
    "\n",
    "print(solution([[0, 0, 0, 0, 0], [0, 0, 0, 0, 0], [0, 0, 0, 0, 0], [0, 0, 1, 0, 0], [0, 0, 0, 0, 0]]))\n",
    "print(solution([[0, 0, 0, 0, 0], [0, 0, 0, 0, 0], [0, 0, 0, 0, 0], [0, 0, 1, 1, 0], [0, 0, 0, 0, 0]]))\n",
    "print(solution([[1, 1, 1, 1, 1, 1], [1, 1, 1, 1, 1, 1], [1, 1, 1, 1, 1, 1], [1, 1, 1, 1, 1, 1], [1, 1, 1, 1, 1, 1], [1, 1, 1, 1, 1, 1]]))\n",
    "print(solution([[1,0,0,0],[0,0,0,0],[0,0,0,0],[0,0,0,1]]))"
   ]
  },
  {
   "cell_type": "code",
   "execution_count": 1,
   "metadata": {},
   "outputs": [
    {
     "name": "stdout",
     "output_type": "stream",
     "text": [
      "6\n"
     ]
    }
   ],
   "source": [
    "def recursion(n):\n",
    "    if n <= 1:\n",
    "        return 1\n",
    "    else:\n",
    "        return recursion(n-1)*n\n",
    "    \n",
    "print(recursion(3))"
   ]
  }
 ],
 "metadata": {
  "kernelspec": {
   "display_name": "base",
   "language": "python",
   "name": "python3"
  },
  "language_info": {
   "codemirror_mode": {
    "name": "ipython",
    "version": 3
   },
   "file_extension": ".py",
   "mimetype": "text/x-python",
   "name": "python",
   "nbconvert_exporter": "python",
   "pygments_lexer": "ipython3",
   "version": "3.11.4"
  }
 },
 "nbformat": 4,
 "nbformat_minor": 2
}

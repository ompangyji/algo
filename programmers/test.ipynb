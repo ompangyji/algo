{
 "cells": [
  {
   "cell_type": "code",
   "execution_count": 10,
   "metadata": {},
   "outputs": [],
   "source": [
    "list1 = [[1, 4], [9, 2], [3, 8], [11, 6]]\n",
    "list2 = [[3, 5], [4, 1], [2, 4], [5, 10]]\n",
    "list3 = [[1, 2], [5, 1], [3, 6], [6, 3]]\n",
    "list4 = [[0, 0], [6, 6], [2, 3], [3, 2]]"
   ]
  },
  {
   "cell_type": "code",
   "execution_count": 12,
   "metadata": {},
   "outputs": [
    {
     "name": "stdout",
     "output_type": "stream",
     "text": [
      "[-2.33333333 11.33333333]\n",
      "[-1. 14.]\n"
     ]
    }
   ],
   "source": [
    "import numpy as np\n",
    "\n",
    "print(np.polyfit(list1[0], list1[1], 1))\n",
    "print(np.polyfit(list1[2], list1[3], 1))"
   ]
  }
 ],
 "metadata": {
  "kernelspec": {
   "display_name": "base",
   "language": "python",
   "name": "python3"
  },
  "language_info": {
   "codemirror_mode": {
    "name": "ipython",
    "version": 3
   },
   "file_extension": ".py",
   "mimetype": "text/x-python",
   "name": "python",
   "nbconvert_exporter": "python",
   "pygments_lexer": "ipython3",
   "version": "3.11.4"
  }
 },
 "nbformat": 4,
 "nbformat_minor": 2
}

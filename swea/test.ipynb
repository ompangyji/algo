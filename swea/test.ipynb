{
 "cells": [
  {
   "cell_type": "code",
   "execution_count": 4,
   "id": "ce4f621e",
   "metadata": {},
   "outputs": [
    {
     "data": {
      "text/plain": [
       "['3', '4', '2', '4', '1']"
      ]
     },
     "execution_count": 4,
     "metadata": {},
     "output_type": "execute_result"
    }
   ],
   "source": [
    "number = list('34241')\n",
    "\n",
    "number"
   ]
  },
  {
   "cell_type": "code",
   "execution_count": 6,
   "id": "fe33567a",
   "metadata": {},
   "outputs": [
    {
     "data": {
      "text/plain": [
       "6"
      ]
     },
     "execution_count": 6,
     "metadata": {},
     "output_type": "execute_result"
    }
   ],
   "source": [
    "number = [0, 0, 0, 0, 0, 0, 3, 3, 0, 0]\n",
    "\n",
    "number.index(3)"
   ]
  },
  {
   "cell_type": "code",
   "execution_count": 3,
   "id": "068acc48",
   "metadata": {},
   "outputs": [
    {
     "data": {
      "text/plain": [
       "'NZEAJ'"
      ]
     },
     "execution_count": 3,
     "metadata": {},
     "output_type": "execute_result"
    }
   ],
   "source": [
    "arr = 'JAEZN'\n",
    "\n",
    "arr[0:len(arr)][::-1]"
   ]
  },
  {
   "cell_type": "code",
   "execution_count": 16,
   "id": "2e819940",
   "metadata": {},
   "outputs": [],
   "source": [
    "def function(n):\n",
    "    if n == 0:\n",
    "        return\n",
    "    else:\n",
    "        print(n)\n",
    "        function(n-1)"
   ]
  },
  {
   "cell_type": "code",
   "execution_count": 1,
   "id": "72cf205f",
   "metadata": {},
   "outputs": [
    {
     "data": {
      "text/plain": [
       "0"
      ]
     },
     "execution_count": 1,
     "metadata": {},
     "output_type": "execute_result"
    }
   ],
   "source": [
    "1 //2"
   ]
  },
  {
   "cell_type": "code",
   "execution_count": 1,
   "id": "80dc7990",
   "metadata": {},
   "outputs": [
    {
     "name": "stdout",
     "output_type": "stream",
     "text": [
      "0 1보다 크다\n",
      "0 1보다 크다\n",
      "0 1보다 크다\n",
      "0 1보다 크다\n"
     ]
    }
   ],
   "source": [
    "def a(n):\n",
    "    if N>1:\n",
    "        print(f'{n} 1보다 크다')\n",
    "\n",
    "\n",
    "for i in range(0, 4):\n",
    "    N = 3\n",
    "\n",
    "    a(0)"
   ]
  },
  {
   "cell_type": "code",
   "execution_count": null,
   "id": "c7efb592",
   "metadata": {},
   "outputs": [],
   "source": []
  }
 ],
 "metadata": {
  "kernelspec": {
   "display_name": "Python 3 (ipykernel)",
   "language": "python",
   "name": "python3"
  },
  "language_info": {
   "codemirror_mode": {
    "name": "ipython",
    "version": 3
   },
   "file_extension": ".py",
   "mimetype": "text/x-python",
   "name": "python",
   "nbconvert_exporter": "python",
   "pygments_lexer": "ipython3",
   "version": "3.9.13"
  }
 },
 "nbformat": 4,
 "nbformat_minor": 5
}

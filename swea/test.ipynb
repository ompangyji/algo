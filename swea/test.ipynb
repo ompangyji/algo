{
 "cells": [
  {
   "cell_type": "code",
   "execution_count": 4,
   "id": "ce4f621e",
   "metadata": {},
   "outputs": [
    {
     "data": {
      "text/plain": [
       "['3', '4', '2', '4', '1']"
      ]
     },
     "execution_count": 4,
     "metadata": {},
     "output_type": "execute_result"
    }
   ],
   "source": [
    "number = list('34241')\n",
    "\n",
    "number"
   ]
  },
  {
   "cell_type": "code",
   "execution_count": 6,
   "id": "fe33567a",
   "metadata": {},
   "outputs": [
    {
     "data": {
      "text/plain": [
       "6"
      ]
     },
     "execution_count": 6,
     "metadata": {},
     "output_type": "execute_result"
    }
   ],
   "source": [
    "number = [0, 0, 0, 0, 0, 0, 3, 3, 0, 0]\n",
    "\n",
    "number.index(3)"
   ]
  },
  {
   "cell_type": "code",
   "execution_count": 3,
   "id": "068acc48",
   "metadata": {},
   "outputs": [
    {
     "data": {
      "text/plain": [
       "'NZEAJ'"
      ]
     },
     "execution_count": 3,
     "metadata": {},
     "output_type": "execute_result"
    }
   ],
   "source": [
    "arr = 'JAEZN'\n",
    "\n",
    "arr[0:len(arr)][::-1]"
   ]
  }
 ],
 "metadata": {
  "kernelspec": {
   "display_name": "Python 3 (ipykernel)",
   "language": "python",
   "name": "python3"
  },
  "language_info": {
   "codemirror_mode": {
    "name": "ipython",
    "version": 3
   },
   "file_extension": ".py",
   "mimetype": "text/x-python",
   "name": "python",
   "nbconvert_exporter": "python",
   "pygments_lexer": "ipython3",
   "version": "3.9.13"
  }
 },
 "nbformat": 4,
 "nbformat_minor": 5
}

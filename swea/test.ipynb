{
 "cells": [
  {
   "cell_type": "code",
   "execution_count": 4,
   "id": "ce4f621e",
   "metadata": {},
   "outputs": [
    {
     "data": {
      "text/plain": [
       "['3', '4', '2', '4', '1']"
      ]
     },
     "execution_count": 4,
     "metadata": {},
     "output_type": "execute_result"
    }
   ],
   "source": [
    "number = list('34241')\n",
    "\n",
    "number"
   ]
  },
  {
   "cell_type": "code",
   "execution_count": 6,
   "id": "fe33567a",
   "metadata": {},
   "outputs": [
    {
     "data": {
      "text/plain": [
       "6"
      ]
     },
     "execution_count": 6,
     "metadata": {},
     "output_type": "execute_result"
    }
   ],
   "source": [
    "number = [0, 0, 0, 0, 0, 0, 3, 3, 0, 0]\n",
    "\n",
    "number.index(3)"
   ]
  },
  {
   "cell_type": "code",
   "execution_count": 3,
   "id": "068acc48",
   "metadata": {},
   "outputs": [
    {
     "data": {
      "text/plain": [
       "'NZEAJ'"
      ]
     },
     "execution_count": 3,
     "metadata": {},
     "output_type": "execute_result"
    }
   ],
   "source": [
    "arr = 'JAEZN'\n",
    "\n",
    "arr[0:len(arr)][::-1]"
   ]
  },
  {
   "cell_type": "code",
   "execution_count": 15,
   "id": "2e819940",
   "metadata": {},
   "outputs": [
    {
     "name": "stdout",
     "output_type": "stream",
     "text": [
      "30\n",
      "20\n",
      "10\n"
     ]
    },
    {
     "data": {
      "text/plain": [
       "61"
      ]
     },
     "execution_count": 15,
     "metadata": {},
     "output_type": "execute_result"
    }
   ],
   "source": [
    "def function(n):\n",
    "    if n == 0:\n",
    "        return\n",
    "    else:\n",
    "        print(n)\n",
    "        function(n-1)"
   ]
  },
  {
   "cell_type": "code",
   "execution_count": null,
   "id": "72cf205f",
   "metadata": {},
   "outputs": [],
   "source": [
    "    K = 3\n",
    "    N = 10\n",
    "    M = 5\n",
    "\n",
    "    bus_stop = [1, 3, 5, 7, 9]\n",
    "    count = 0\n",
    "    now = 0\n",
    "\n",
    "    # 충전할 필요가 없이 바로 도착하는 경우\n",
    "    if K >= N:\n",
    "        count = 0\n",
    "    # 충전을 하면서 지나가야 하는 경우\n",
    "    else:\n",
    "        # 버스가 아직 종점에 도착하지 않았다면 계속 반복\n",
    "        while now < N:\n",
    "            # 현재위치(now)를 기준으로 최대로 갈 수 있는 범위를 찾는다.\n",
    "            #-↓↓↓↓↓-\n",
    "            for i in range(now+K, now, -1):\n",
    "                # 1. 최대범위가 종점을 넘는경우\n",
    "                if i >= N:\n",
    "                    now = N\n",
    "                    break\n",
    "\n",
    "                # 2. 최대범위가 종점을 넘지 않은경우\n",
    "                if i in bus_stop:\n",
    "                    now = i\n",
    "                    count += 1\n",
    "                    break\n",
    "\n",
    "            # 현재 위치에서 최대 거리까지 다 확인을 했는데 충전소가 없다면 => 도착 불가능\n",
    "            else:\n",
    "                count = 0\n",
    "                now = N"
   ]
  },
  {
   "cell_type": "code",
   "execution_count": null,
   "id": "80dc7990",
   "metadata": {},
   "outputs": [],
   "source": []
  }
 ],
 "metadata": {
  "kernelspec": {
   "display_name": "Python 3 (ipykernel)",
   "language": "python",
   "name": "python3"
  },
  "language_info": {
   "codemirror_mode": {
    "name": "ipython",
    "version": 3
   },
   "file_extension": ".py",
   "mimetype": "text/x-python",
   "name": "python",
   "nbconvert_exporter": "python",
   "pygments_lexer": "ipython3",
   "version": "3.9.13"
  }
 },
 "nbformat": 4,
 "nbformat_minor": 5
}
